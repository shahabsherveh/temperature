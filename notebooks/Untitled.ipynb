{
 "cells": [
  {
   "cell_type": "code",
   "execution_count": 2,
   "id": "543e19cf-ea01-4755-9742-4418e0b24166",
   "metadata": {},
   "outputs": [],
   "source": [
    "import pymc_extras as pmx\n",
    "import pandas as pd\n",
    "import numpy as np"
   ]
  },
  {
   "cell_type": "code",
   "execution_count": 19,
   "id": "fa6f3fe6-ab9c-49c4-b4a9-ecdff4e43177",
   "metadata": {},
   "outputs": [],
   "source": [
    "trend = pmx.statespace.structural.LevelTrendComponent(order=2, innovations_order=0, name='trend')"
   ]
  },
  {
   "cell_type": "code",
   "execution_count": 20,
   "id": "d6aae6ea-165b-4323-b852-dedc9037afe6",
   "metadata": {},
   "outputs": [
    {
     "data": {
      "text/plain": [
       "{'initial_trend': {'shape': (2,),\n",
       "  'constraints': None,\n",
       "  'dims': ('trend_state',)}}"
      ]
     },
     "execution_count": 20,
     "metadata": {},
     "output_type": "execute_result"
    }
   ],
   "source": [
    "trend.param_info"
   ]
  },
  {
   "cell_type": "code",
   "execution_count": 21,
   "id": "545bc539-04b4-4a06-a445-a4a480624cc7",
   "metadata": {},
   "outputs": [],
   "source": [
    "season = pmx.statespace.structural.TimeSeasonality(season_length=12, name=\"annual\", innovations=False)"
   ]
  },
  {
   "cell_type": "code",
   "execution_count": 22,
   "id": "5c9cb21b-2eb9-4f60-b60c-9949f3da6f8b",
   "metadata": {},
   "outputs": [
    {
     "data": {
      "text/plain": [
       "{'annual_coefs': {'shape': (11,),\n",
       "  'constraints': None,\n",
       "  'dims': ('annual_state',)}}"
      ]
     },
     "execution_count": 22,
     "metadata": {},
     "output_type": "execute_result"
    }
   ],
   "source": [
    "season.param_info"
   ]
  },
  {
   "cell_type": "code",
   "execution_count": 25,
   "id": "c694ccf9-5c68-418e-aab4-0f7a8dec169c",
   "metadata": {},
   "outputs": [],
   "source": [
    "cycles = pmx.statespace.structural.FrequencySeasonality(season_length=12,n=2, name=\"annual\", innovations=False)"
   ]
  },
  {
   "cell_type": "code",
   "execution_count": 26,
   "id": "d7a9d08b-2456-491d-9846-f8035233fb6e",
   "metadata": {},
   "outputs": [
    {
     "data": {
      "text/plain": [
       "{'annual': {'shape': (4,), 'constraints': None, 'dims': ('annual_state',)}}"
      ]
     },
     "execution_count": 26,
     "metadata": {},
     "output_type": "execute_result"
    }
   ],
   "source": [
    "cycles.param_info"
   ]
  },
  {
   "cell_type": "code",
   "execution_count": 17,
   "id": "1ed7dc0c-589b-4954-930b-33a27b9afd0e",
   "metadata": {},
   "outputs": [],
   "source": [
    "ar = pmx.statespace.structural.AutoregressiveComponent(order=2)"
   ]
  },
  {
   "cell_type": "code",
   "execution_count": 18,
   "id": "00e23269-822f-4b07-8374-0457e9fafe62",
   "metadata": {},
   "outputs": [
    {
     "data": {
      "text/plain": [
       "{'ar_params': {'shape': (2,), 'constraints': None, 'dims': ('ar_lag',)},\n",
       " 'sigma_ar': {'shape': (), 'constraints': 'Positive', 'dims': None}}"
      ]
     },
     "execution_count": 18,
     "metadata": {},
     "output_type": "execute_result"
    }
   ],
   "source": [
    "ar.param_info"
   ]
  },
  {
   "cell_type": "code",
   "execution_count": 32,
   "id": "40bc82c0-004a-47b1-bc7a-fd1b21fe7831",
   "metadata": {},
   "outputs": [
    {
     "data": {
      "text/html": [
       "<pre style=\"white-space:pre;overflow-x:auto;line-height:normal;font-family:Menlo,'DejaVu Sans Mono',consolas,'Courier New',monospace\"><span style=\"font-style: italic\">                              Model Requirements                              </span>\n",
       "                                                                              \n",
       " <span style=\"font-weight: bold\"> Variable      </span> <span style=\"font-weight: bold\"> Shape    </span> <span style=\"font-weight: bold\"> Constraints            </span> <span style=\"font-weight: bold\">             Dimensions </span> \n",
       " ──────────────────────────────────────────────────────────────────────────── \n",
       "  ar_params       <span style=\"font-weight: bold\">(</span><span style=\"color: #008080; text-decoration-color: #008080; font-weight: bold\">2</span>,<span style=\"font-weight: bold\">)</span>                                           <span style=\"font-weight: bold\">(</span><span style=\"color: #008000; text-decoration-color: #008000\">'ar_lag'</span>,<span style=\"font-weight: bold\">)</span>  \n",
       "  sigma_ar        <span style=\"font-weight: bold\">()</span>         Positive                                   <span style=\"color: #800080; text-decoration-color: #800080; font-style: italic\">None</span>  \n",
       "  initial_trend   <span style=\"font-weight: bold\">(</span><span style=\"color: #008080; text-decoration-color: #008080; font-weight: bold\">2</span>,<span style=\"font-weight: bold\">)</span>                                      <span style=\"font-weight: bold\">(</span><span style=\"color: #008000; text-decoration-color: #008000\">'trend_state'</span>,<span style=\"font-weight: bold\">)</span>  \n",
       "  annual_coefs    <span style=\"font-weight: bold\">(</span><span style=\"color: #008080; text-decoration-color: #008080; font-weight: bold\">11</span>,<span style=\"font-weight: bold\">)</span>                                    <span style=\"font-weight: bold\">(</span><span style=\"color: #008000; text-decoration-color: #008000\">'annual_state'</span>,<span style=\"font-weight: bold\">)</span>  \n",
       "  P0              <span style=\"font-weight: bold\">(</span><span style=\"color: #008080; text-decoration-color: #008080; font-weight: bold\">15</span>, <span style=\"color: #008080; text-decoration-color: #008080; font-weight: bold\">15</span><span style=\"font-weight: bold\">)</span>   Positive semi-definite   <span style=\"font-weight: bold\">(</span><span style=\"color: #008000; text-decoration-color: #008000\">'state'</span>, <span style=\"color: #008000; text-decoration-color: #008000\">'state_aux'</span><span style=\"font-weight: bold\">)</span>  \n",
       "                                                                              \n",
       "<span style=\"color: #7f7f7f; text-decoration-color: #7f7f7f; font-style: italic\"> These parameters should be assigned priors inside a PyMC model block before  </span>\n",
       "<span style=\"color: #7f7f7f; text-decoration-color: #7f7f7f; font-style: italic\">                  calling the build_statespace_graph method.                  </span>\n",
       "</pre>\n"
      ],
      "text/plain": [
       "\u001b[3m                              Model Requirements                              \u001b[0m\n",
       "                                                                              \n",
       " \u001b[1m \u001b[0m\u001b[1mVariable     \u001b[0m\u001b[1m \u001b[0m \u001b[1m \u001b[0m\u001b[1mShape   \u001b[0m\u001b[1m \u001b[0m \u001b[1m \u001b[0m\u001b[1mConstraints           \u001b[0m\u001b[1m \u001b[0m \u001b[1m \u001b[0m\u001b[1m            Dimensions\u001b[0m\u001b[1m \u001b[0m \n",
       " ──────────────────────────────────────────────────────────────────────────── \n",
       "  ar_params       \u001b[1m(\u001b[0m\u001b[1;36m2\u001b[0m,\u001b[1m)\u001b[0m                                           \u001b[1m(\u001b[0m\u001b[32m'ar_lag'\u001b[0m,\u001b[1m)\u001b[0m  \n",
       "  sigma_ar        \u001b[1m(\u001b[0m\u001b[1m)\u001b[0m         Positive                                   \u001b[3;35mNone\u001b[0m  \n",
       "  initial_trend   \u001b[1m(\u001b[0m\u001b[1;36m2\u001b[0m,\u001b[1m)\u001b[0m                                      \u001b[1m(\u001b[0m\u001b[32m'trend_state'\u001b[0m,\u001b[1m)\u001b[0m  \n",
       "  annual_coefs    \u001b[1m(\u001b[0m\u001b[1;36m11\u001b[0m,\u001b[1m)\u001b[0m                                    \u001b[1m(\u001b[0m\u001b[32m'annual_state'\u001b[0m,\u001b[1m)\u001b[0m  \n",
       "  P0              \u001b[1m(\u001b[0m\u001b[1;36m15\u001b[0m, \u001b[1;36m15\u001b[0m\u001b[1m)\u001b[0m   Positive semi-definite   \u001b[1m(\u001b[0m\u001b[32m'state'\u001b[0m, \u001b[32m'state_aux'\u001b[0m\u001b[1m)\u001b[0m  \n",
       "                                                                              \n",
       "\u001b[2;3m These parameters should be assigned priors inside a PyMC model block before  \u001b[0m\n",
       "\u001b[2;3m                  calling the build_statespace_graph method.                  \u001b[0m\n"
      ]
     },
     "metadata": {},
     "output_type": "display_data"
    }
   ],
   "source": [
    "ssm = (ar + trend + season).build()"
   ]
  },
  {
   "cell_type": "code",
   "execution_count": 33,
   "id": "66823b1b-2c99-44ed-8128-0e8786443554",
   "metadata": {},
   "outputs": [
    {
     "data": {
      "text/plain": [
       "{'ar_params': ('ar_lag',),\n",
       " 'initial_trend': ('trend_state',),\n",
       " 'annual_coefs': ('annual_state',),\n",
       " 'P0': ('state', 'state_aux')}"
      ]
     },
     "execution_count": 33,
     "metadata": {},
     "output_type": "execute_result"
    }
   ],
   "source": [
    "ssm.param_dims"
   ]
  },
  {
   "cell_type": "code",
   "execution_count": 34,
   "id": "86932f39-4b02-410a-8004-832f580d4cfb",
   "metadata": {},
   "outputs": [
    {
     "ename": "ImportError",
     "evalue": "attempted relative import with no known parent package",
     "output_type": "error",
     "traceback": [
      "\u001b[31m---------------------------------------------------------------------------\u001b[39m",
      "\u001b[31mImportError\u001b[39m                               Traceback (most recent call last)",
      "\u001b[36mCell\u001b[39m\u001b[36m \u001b[39m\u001b[32mIn[34]\u001b[39m\u001b[32m, line 1\u001b[39m\n\u001b[32m----> \u001b[39m\u001b[32m1\u001b[39m \u001b[38;5;28;01mfrom\u001b[39;00m\u001b[38;5;250m \u001b[39m\u001b[34;01m.\u001b[39;00m\u001b[34;01m.\u001b[39;00m\u001b[34;01msrc\u001b[39;00m\u001b[34;01m.\u001b[39;00m\u001b[34;01mmodel_pymx\u001b[39;00m\u001b[38;5;250m \u001b[39m\u001b[38;5;28;01mimport\u001b[39;00m ARConfig,FrequencySeasonalityConfig,TimeSeasonalConfig, StructuralTimeSeriesConfig, TrendConfig\n",
      "\u001b[31mImportError\u001b[39m: attempted relative import with no known parent package"
     ]
    }
   ],
   "source": [
    "from ..src.model_pymx import ARConfig,FrequencySeasonalityConfig,TimeSeasonalConfig, StructuralTimeSeriesConfig, TrendConfig"
   ]
  },
  {
   "cell_type": "code",
   "execution_count": 1,
   "id": "45cf58ad-5d6c-42f6-a341-c57a2a35bc39",
   "metadata": {},
   "outputs": [],
   "source": [
    "from shastat.model_pymx import StructuralTimeSeriesConfig, StructuralTimeSeriesBuilder"
   ]
  },
  {
   "cell_type": "code",
   "execution_count": 2,
   "id": "4cf3f3ec-aa50-47de-9c97-61c615478a4f",
   "metadata": {},
   "outputs": [],
   "source": [
    "config = StructuralTimeSeriesConfig()"
   ]
  },
  {
   "cell_type": "code",
   "execution_count": 4,
   "id": "7d440509-8c87-4218-9ccb-b124c3a2198c",
   "metadata": {},
   "outputs": [
    {
     "data": {
      "text/plain": [
       "{'ar': {'order': 1}}"
      ]
     },
     "execution_count": 4,
     "metadata": {},
     "output_type": "execute_result"
    }
   ],
   "source": [
    "config.to_dict()"
   ]
  },
  {
   "cell_type": "code",
   "execution_count": 2,
   "id": "8e0bac34-a189-4293-bfce-2356586ffea4",
   "metadata": {},
   "outputs": [],
   "source": [
    "model_builder = StructuralTimeSeriesBuilder()"
   ]
  },
  {
   "cell_type": "code",
   "execution_count": 6,
   "id": "17b5cc42-4bd3-4ccf-80fe-1bd5ca70217f",
   "metadata": {},
   "outputs": [
    {
     "data": {
      "text/html": [
       "<pre style=\"white-space:pre;overflow-x:auto;line-height:normal;font-family:Menlo,'DejaVu Sans Mono',consolas,'Courier New',monospace\"><span style=\"font-style: italic\">                             Model Requirements                             </span>\n",
       "                                                                            \n",
       " <span style=\"font-weight: bold\"> Variable      </span> <span style=\"font-weight: bold\"> Shape  </span> <span style=\"font-weight: bold\"> Constraints            </span> <span style=\"font-weight: bold\">             Dimensions </span> \n",
       " ────────────────────────────────────────────────────────────────────────── \n",
       "  ar_params       <span style=\"font-weight: bold\">(</span><span style=\"color: #008080; text-decoration-color: #008080; font-weight: bold\">1</span>,<span style=\"font-weight: bold\">)</span>                                         <span style=\"font-weight: bold\">(</span><span style=\"color: #008000; text-decoration-color: #008000\">'ar_lag'</span>,<span style=\"font-weight: bold\">)</span>  \n",
       "  sigma_ar        <span style=\"font-weight: bold\">()</span>       Positive                                   <span style=\"color: #800080; text-decoration-color: #800080; font-style: italic\">None</span>  \n",
       "  initial_trend   <span style=\"font-weight: bold\">(</span><span style=\"color: #008080; text-decoration-color: #008080; font-weight: bold\">2</span>,<span style=\"font-weight: bold\">)</span>                                    <span style=\"font-weight: bold\">(</span><span style=\"color: #008000; text-decoration-color: #008000\">'trend_state'</span>,<span style=\"font-weight: bold\">)</span>  \n",
       "  sigma_trend     <span style=\"font-weight: bold\">(</span><span style=\"color: #008080; text-decoration-color: #008080; font-weight: bold\">2</span>,<span style=\"font-weight: bold\">)</span>     Positive                       <span style=\"font-weight: bold\">(</span><span style=\"color: #008000; text-decoration-color: #008000\">'trend_shock'</span>,<span style=\"font-weight: bold\">)</span>  \n",
       "  P0              <span style=\"font-weight: bold\">(</span><span style=\"color: #008080; text-decoration-color: #008080; font-weight: bold\">3</span>, <span style=\"color: #008080; text-decoration-color: #008080; font-weight: bold\">3</span><span style=\"font-weight: bold\">)</span>   Positive semi-definite   <span style=\"font-weight: bold\">(</span><span style=\"color: #008000; text-decoration-color: #008000\">'state'</span>, <span style=\"color: #008000; text-decoration-color: #008000\">'state_aux'</span><span style=\"font-weight: bold\">)</span>  \n",
       "                                                                            \n",
       "<span style=\"color: #7f7f7f; text-decoration-color: #7f7f7f; font-style: italic\">These parameters should be assigned priors inside a PyMC model block before </span>\n",
       "<span style=\"color: #7f7f7f; text-decoration-color: #7f7f7f; font-style: italic\">                 calling the build_statespace_graph method.                 </span>\n",
       "</pre>\n"
      ],
      "text/plain": [
       "\u001b[3m                             Model Requirements                             \u001b[0m\n",
       "                                                                            \n",
       " \u001b[1m \u001b[0m\u001b[1mVariable     \u001b[0m\u001b[1m \u001b[0m \u001b[1m \u001b[0m\u001b[1mShape \u001b[0m\u001b[1m \u001b[0m \u001b[1m \u001b[0m\u001b[1mConstraints           \u001b[0m\u001b[1m \u001b[0m \u001b[1m \u001b[0m\u001b[1m            Dimensions\u001b[0m\u001b[1m \u001b[0m \n",
       " ────────────────────────────────────────────────────────────────────────── \n",
       "  ar_params       \u001b[1m(\u001b[0m\u001b[1;36m1\u001b[0m,\u001b[1m)\u001b[0m                                         \u001b[1m(\u001b[0m\u001b[32m'ar_lag'\u001b[0m,\u001b[1m)\u001b[0m  \n",
       "  sigma_ar        \u001b[1m(\u001b[0m\u001b[1m)\u001b[0m       Positive                                   \u001b[3;35mNone\u001b[0m  \n",
       "  initial_trend   \u001b[1m(\u001b[0m\u001b[1;36m2\u001b[0m,\u001b[1m)\u001b[0m                                    \u001b[1m(\u001b[0m\u001b[32m'trend_state'\u001b[0m,\u001b[1m)\u001b[0m  \n",
       "  sigma_trend     \u001b[1m(\u001b[0m\u001b[1;36m2\u001b[0m,\u001b[1m)\u001b[0m     Positive                       \u001b[1m(\u001b[0m\u001b[32m'trend_shock'\u001b[0m,\u001b[1m)\u001b[0m  \n",
       "  P0              \u001b[1m(\u001b[0m\u001b[1;36m3\u001b[0m, \u001b[1;36m3\u001b[0m\u001b[1m)\u001b[0m   Positive semi-definite   \u001b[1m(\u001b[0m\u001b[32m'state'\u001b[0m, \u001b[32m'state_aux'\u001b[0m\u001b[1m)\u001b[0m  \n",
       "                                                                            \n",
       "\u001b[2;3mThese parameters should be assigned priors inside a PyMC model block before \u001b[0m\n",
       "\u001b[2;3m                 calling the build_statespace_graph method.                 \u001b[0m\n"
      ]
     },
     "metadata": {},
     "output_type": "display_data"
    },
    {
     "ename": "ValueError",
     "evalue": "Variable name P0 already exists.",
     "output_type": "error",
     "traceback": [
      "\u001b[31m---------------------------------------------------------------------------\u001b[39m",
      "\u001b[31mValueError\u001b[39m                                Traceback (most recent call last)",
      "\u001b[36mCell\u001b[39m\u001b[36m \u001b[39m\u001b[32mIn[6]\u001b[39m\u001b[32m, line 1\u001b[39m\n\u001b[32m----> \u001b[39m\u001b[32m1\u001b[39m \u001b[43mmodel_builder\u001b[49m\u001b[43m.\u001b[49m\u001b[43mbuild_model\u001b[49m\u001b[43m(\u001b[49m\u001b[43mX\u001b[49m\u001b[43m=\u001b[49m\u001b[38;5;28;43;01mNone\u001b[39;49;00m\u001b[43m,\u001b[49m\u001b[43m \u001b[49m\u001b[43my\u001b[49m\u001b[43m=\u001b[49m\u001b[43m[\u001b[49m\u001b[32;43m1\u001b[39;49m\u001b[43m,\u001b[49m\u001b[32;43m2\u001b[39;49m\u001b[43m,\u001b[49m\u001b[32;43m3\u001b[39;49m\u001b[43m,\u001b[49m\u001b[32;43m4\u001b[39;49m\u001b[43m,\u001b[49m\u001b[32;43m5\u001b[39;49m\u001b[43m]\u001b[49m\u001b[43m)\u001b[49m\n",
      "\u001b[36mFile \u001b[39m\u001b[32m~/portfolio/projects/uppsala-temperature/src/shastat/model_pymx.py:151\u001b[39m, in \u001b[36mStructuralTimeSeriesBuilder.build_model\u001b[39m\u001b[34m(self, X, y, **kwargs)\u001b[39m\n\u001b[32m    149\u001b[39m         pm.Exponential(name)\n\u001b[32m    150\u001b[39m     \u001b[38;5;28;01melse\u001b[39;00m:\n\u001b[32m--> \u001b[39m\u001b[32m151\u001b[39m         \u001b[43mpm\u001b[49m\u001b[43m.\u001b[49m\u001b[43mNormal\u001b[49m\u001b[43m(\u001b[49m\u001b[43mname\u001b[49m\u001b[43m,\u001b[49m\u001b[43m \u001b[49m\u001b[43mdims\u001b[49m\u001b[43m=\u001b[49m\u001b[43mparam_dims\u001b[49m\u001b[43m[\u001b[49m\u001b[43mname\u001b[49m\u001b[43m]\u001b[49m\u001b[43m)\u001b[49m\n\u001b[32m    152\u001b[39m \u001b[38;5;28mself\u001b[39m._model_skeleton.build_statespace_graph(data=X_values)\n",
      "\u001b[36mFile \u001b[39m\u001b[32m~/.virtualenvs/bayes/lib/python3.12/site-packages/pymc/distributions/distribution.py:507\u001b[39m, in \u001b[36mDistribution.__new__\u001b[39m\u001b[34m(cls, name, rng, dims, initval, observed, total_size, transform, default_transform, *args, **kwargs)\u001b[39m\n\u001b[32m    503\u001b[39m         kwargs[\u001b[33m\"\u001b[39m\u001b[33mshape\u001b[39m\u001b[33m\"\u001b[39m] = \u001b[38;5;28mtuple\u001b[39m(observed.shape)\n\u001b[32m    505\u001b[39m rv_out = \u001b[38;5;28mcls\u001b[39m.dist(*args, **kwargs)\n\u001b[32m--> \u001b[39m\u001b[32m507\u001b[39m rv_out = \u001b[43mmodel\u001b[49m\u001b[43m.\u001b[49m\u001b[43mregister_rv\u001b[49m\u001b[43m(\u001b[49m\n\u001b[32m    508\u001b[39m \u001b[43m    \u001b[49m\u001b[43mrv_out\u001b[49m\u001b[43m,\u001b[49m\n\u001b[32m    509\u001b[39m \u001b[43m    \u001b[49m\u001b[43mname\u001b[49m\u001b[43m,\u001b[49m\n\u001b[32m    510\u001b[39m \u001b[43m    \u001b[49m\u001b[43mobserved\u001b[49m\u001b[43m=\u001b[49m\u001b[43mobserved\u001b[49m\u001b[43m,\u001b[49m\n\u001b[32m    511\u001b[39m \u001b[43m    \u001b[49m\u001b[43mtotal_size\u001b[49m\u001b[43m=\u001b[49m\u001b[43mtotal_size\u001b[49m\u001b[43m,\u001b[49m\n\u001b[32m    512\u001b[39m \u001b[43m    \u001b[49m\u001b[43mdims\u001b[49m\u001b[43m=\u001b[49m\u001b[43mdims\u001b[49m\u001b[43m,\u001b[49m\n\u001b[32m    513\u001b[39m \u001b[43m    \u001b[49m\u001b[43mtransform\u001b[49m\u001b[43m=\u001b[49m\u001b[43mtransform\u001b[49m\u001b[43m,\u001b[49m\n\u001b[32m    514\u001b[39m \u001b[43m    \u001b[49m\u001b[43mdefault_transform\u001b[49m\u001b[43m=\u001b[49m\u001b[43mdefault_transform\u001b[49m\u001b[43m,\u001b[49m\n\u001b[32m    515\u001b[39m \u001b[43m    \u001b[49m\u001b[43minitval\u001b[49m\u001b[43m=\u001b[49m\u001b[43minitval\u001b[49m\u001b[43m,\u001b[49m\n\u001b[32m    516\u001b[39m \u001b[43m\u001b[49m\u001b[43m)\u001b[49m\n\u001b[32m    518\u001b[39m \u001b[38;5;66;03m# add in pretty-printing support\u001b[39;00m\n\u001b[32m    519\u001b[39m rv_out.str_repr = types.MethodType(str_for_dist, rv_out)\n",
      "\u001b[36mFile \u001b[39m\u001b[32m~/.virtualenvs/bayes/lib/python3.12/site-packages/pymc/model/core.py:1241\u001b[39m, in \u001b[36mModel.register_rv\u001b[39m\u001b[34m(self, rv_var, name, observed, total_size, dims, default_transform, transform, initval)\u001b[39m\n\u001b[32m   1239\u001b[39m     \u001b[38;5;28mself\u001b[39m.free_RVs.append(rv_var)\n\u001b[32m   1240\u001b[39m     \u001b[38;5;28mself\u001b[39m.create_value_var(rv_var, transform=transform, default_transform=default_transform)\n\u001b[32m-> \u001b[39m\u001b[32m1241\u001b[39m     \u001b[38;5;28;43mself\u001b[39;49m\u001b[43m.\u001b[49m\u001b[43madd_named_variable\u001b[49m\u001b[43m(\u001b[49m\u001b[43mrv_var\u001b[49m\u001b[43m,\u001b[49m\u001b[43m \u001b[49m\u001b[43mdims\u001b[49m\u001b[43m)\u001b[49m\n\u001b[32m   1242\u001b[39m     \u001b[38;5;28mself\u001b[39m.set_initval(rv_var, initval)\n\u001b[32m   1243\u001b[39m \u001b[38;5;28;01melse\u001b[39;00m:\n",
      "\u001b[36mFile \u001b[39m\u001b[32m~/.virtualenvs/bayes/lib/python3.12/site-packages/pymc/model/core.py:1469\u001b[39m, in \u001b[36mModel.add_named_variable\u001b[39m\u001b[34m(self, var, dims)\u001b[39m\n\u001b[32m   1467\u001b[39m     \u001b[38;5;28;01mraise\u001b[39;00m \u001b[38;5;167;01mValueError\u001b[39;00m(\u001b[33m\"\u001b[39m\u001b[33mVariable is unnamed.\u001b[39m\u001b[33m\"\u001b[39m)\n\u001b[32m   1468\u001b[39m \u001b[38;5;28;01mif\u001b[39;00m \u001b[38;5;28mself\u001b[39m.named_vars.tree_contains(var.name):\n\u001b[32m-> \u001b[39m\u001b[32m1469\u001b[39m     \u001b[38;5;28;01mraise\u001b[39;00m \u001b[38;5;167;01mValueError\u001b[39;00m(\u001b[33mf\u001b[39m\u001b[33m\"\u001b[39m\u001b[33mVariable name \u001b[39m\u001b[38;5;132;01m{\u001b[39;00mvar.name\u001b[38;5;132;01m}\u001b[39;00m\u001b[33m already exists.\u001b[39m\u001b[33m\"\u001b[39m)\n\u001b[32m   1471\u001b[39m \u001b[38;5;28;01mif\u001b[39;00m dims \u001b[38;5;129;01mis\u001b[39;00m \u001b[38;5;129;01mnot\u001b[39;00m \u001b[38;5;28;01mNone\u001b[39;00m:\n\u001b[32m   1472\u001b[39m     \u001b[38;5;28;01mif\u001b[39;00m \u001b[38;5;28misinstance\u001b[39m(dims, \u001b[38;5;28mstr\u001b[39m):\n",
      "\u001b[31mValueError\u001b[39m: Variable name P0 already exists."
     ]
    }
   ],
   "source": [
    "model_builder.build_model(X=None, y=[1,2,3,4,5])"
   ]
  },
  {
   "cell_type": "code",
   "execution_count": null,
   "id": "8591d409-1cc0-4394-b5a2-d3a93e2179e5",
   "metadata": {},
   "outputs": [],
   "source": []
  }
 ],
 "metadata": {
  "kernelspec": {
   "display_name": "Python 3 (ipykernel)",
   "language": "python",
   "name": "python3"
  },
  "language_info": {
   "codemirror_mode": {
    "name": "ipython",
    "version": 3
   },
   "file_extension": ".py",
   "mimetype": "text/x-python",
   "name": "python",
   "nbconvert_exporter": "python",
   "pygments_lexer": "ipython3",
   "version": "3.12.3"
  }
 },
 "nbformat": 4,
 "nbformat_minor": 5
}
